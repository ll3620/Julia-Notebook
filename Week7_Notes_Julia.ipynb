{
 "cells": [
  {
   "cell_type": "code",
   "execution_count": 1,
   "metadata": {},
   "outputs": [],
   "source": [
    "using LinearAlgebra, Plots, Test"
   ]
  },
  {
   "cell_type": "markdown",
   "metadata": {},
   "source": [
    "### MATH50003 Week 7 Lecture Notes (before Fourier Series)\n",
    "\n",
    "**Two-point boundary value problems with Poisson equation**\n",
    "\n",
    "Here we will only consider one discretisation as it is symmetric:\n",
    "$$\n",
    "u''(x_k) ≈ {u_{k-1} - 2u_k + u_{k+1} \\over h^2}\n",
    "$$\n",
    "That is we use the $n-1 × n+1$ matrix:\n",
    "$$\n",
    "D_h^2 := {1 \\over h^2} \\begin{bmatrix}\n",
    "1 & -2 & 1 \\\\ & ⋱ & ⋱ & ⋱ \\\\\n",
    "&& 1 & -2 & 1 \n",
    "\\end{bmatrix}\n",
    "$$\n",
    "\n",
    "And we need to add our intial value boundaries to get the square matrix.\n",
    "$$\n",
    "\\begin{bmatrix}\n",
    "𝐞_1^⊤ \\\\\n",
    "D_h^2 \\\\\n",
    "𝐞_{n+1}^⊤\n",
    "\\end{bmatrix}\n",
    "$$\n",
    "\n",
    "### Example Question\n",
    " test convergence on $u(x) = \\cos x^2$ which satisfies\n",
    "$$\n",
    "\\begin{align*}\n",
    "u(0) = 1 \\\\\n",
    "u(1) = \\cos 1 \\\\\n",
    "u''(x) = -4x^2*cos(x^2) - 2sin(x^2)\n",
    "\\end{align*}\n",
    "$$\n",
    "We observe uniform ($∞$-norm) convergence: (Notice how two value problem is implemented beblow)"
   ]
  },
  {
   "cell_type": "code",
   "execution_count": 39,
   "metadata": {},
   "outputs": [
    {
     "data": {
      "image/svg+xml": "<?xml version=\"1.0\" encoding=\"utf-8\"?>\n<svg xmlns=\"http://www.w3.org/2000/svg\" xmlns:xlink=\"http://www.w3.org/1999/xlink\" width=\"600\" height=\"400\" viewBox=\"0 0 2400 1600\">\n<defs>\n  <clipPath id=\"clip300\">\n    <rect x=\"0\" y=\"0\" width=\"2400\" height=\"1600\"/>\n  </clipPath>\n</defs>\n<path clip-path=\"url(#clip300)\" d=\"\nM0 1600 L2400 1600 L2400 0 L0 0  Z\n  \" fill=\"#ffffff\" fill-rule=\"evenodd\" fill-opacity=\"1\"/>\n<defs>\n  <clipPath id=\"clip301\">\n    <rect x=\"480\" y=\"0\" width=\"1681\" height=\"1600\"/>\n  </clipPath>\n</defs>\n<path clip-path=\"url(#clip300)\" d=\"\nM213.607 1474.16 L2352.76 1474.16 L2352.76 47.2441 L213.607 47.2441  Z\n  \" fill=\"#ffffff\" fill-rule=\"evenodd\" fill-opacity=\"1\"/>\n<defs>\n  <clipPath id=\"clip302\">\n    <rect x=\"213\" y=\"47\" width=\"2140\" height=\"1428\"/>\n  </clipPath>\n</defs>\n<polyline clip-path=\"url(#clip302)\" style=\"stroke:#000000; stroke-linecap:butt; stroke-linejoin:round; stroke-width:2; stroke-opacity:0.1; fill:none\" points=\"\n  850.739,1474.16 850.739,47.2441 \n  \"/>\n<polyline clip-path=\"url(#clip302)\" style=\"stroke:#000000; stroke-linecap:butt; stroke-linejoin:round; stroke-width:2; stroke-opacity:0.1; fill:none\" points=\"\n  1715.62,1474.16 1715.62,47.2441 \n  \"/>\n<polyline clip-path=\"url(#clip300)\" style=\"stroke:#000000; stroke-linecap:butt; stroke-linejoin:round; stroke-width:4; stroke-opacity:1; fill:none\" points=\"\n  213.607,1474.16 2352.76,1474.16 \n  \"/>\n<polyline clip-path=\"url(#clip300)\" style=\"stroke:#000000; stroke-linecap:butt; stroke-linejoin:round; stroke-width:4; stroke-opacity:1; fill:none\" points=\"\n  850.739,1474.16 850.739,1455.27 \n  \"/>\n<polyline clip-path=\"url(#clip300)\" style=\"stroke:#000000; stroke-linecap:butt; stroke-linejoin:round; stroke-width:4; stroke-opacity:1; fill:none\" points=\"\n  1715.62,1474.16 1715.62,1455.27 \n  \"/>\n<path clip-path=\"url(#clip300)\" d=\"M816.183 1548.29 L823.822 1548.29 L823.822 1521.92 L815.512 1523.59 L815.512 1519.33 L823.775 1517.66 L828.451 1517.66 L828.451 1548.29 L836.09 1548.29 L836.09 1552.22 L816.183 1552.22 L816.183 1548.29 Z\" fill=\"#000000\" fill-rule=\"evenodd\" fill-opacity=\"1\" /><path clip-path=\"url(#clip300)\" d=\"M855.535 1520.74 Q851.923 1520.74 850.095 1524.31 Q848.289 1527.85 848.289 1534.98 Q848.289 1542.09 850.095 1545.65 Q851.923 1549.19 855.535 1549.19 Q859.169 1549.19 860.974 1545.65 Q862.803 1542.09 862.803 1534.98 Q862.803 1527.85 860.974 1524.31 Q859.169 1520.74 855.535 1520.74 M855.535 1517.04 Q861.345 1517.04 864.4 1521.65 Q867.479 1526.23 867.479 1534.98 Q867.479 1543.71 864.4 1548.31 Q861.345 1552.9 855.535 1552.9 Q849.724 1552.9 846.646 1548.31 Q843.59 1543.71 843.59 1534.98 Q843.59 1526.23 846.646 1521.65 Q849.724 1517.04 855.535 1517.04 Z\" fill=\"#000000\" fill-rule=\"evenodd\" fill-opacity=\"1\" /><path clip-path=\"url(#clip300)\" d=\"M880.174 1509.67 Q882.901 1510.26 884.425 1512.1 Q885.967 1513.94 885.967 1516.65 Q885.967 1520.81 883.108 1523.08 Q880.249 1525.36 874.983 1525.36 Q873.215 1525.36 871.335 1525 Q869.473 1524.66 867.479 1523.97 L867.479 1520.3 Q869.059 1521.22 870.94 1521.69 Q872.82 1522.16 874.87 1522.16 Q878.444 1522.16 880.306 1520.75 Q882.187 1519.34 882.187 1516.65 Q882.187 1514.17 880.437 1512.78 Q878.707 1511.37 875.604 1511.37 L872.331 1511.37 L872.331 1508.24 L875.754 1508.24 Q878.557 1508.24 880.043 1507.13 Q881.528 1506.01 881.528 1503.9 Q881.528 1501.74 879.986 1500.59 Q878.463 1499.42 875.604 1499.42 Q874.043 1499.42 872.256 1499.76 Q870.469 1500.1 868.325 1500.82 L868.325 1497.43 Q870.488 1496.83 872.369 1496.53 Q874.269 1496.23 875.942 1496.23 Q880.268 1496.23 882.788 1498.2 Q885.309 1500.16 885.309 1503.51 Q885.309 1505.84 883.973 1507.45 Q882.638 1509.05 880.174 1509.67 Z\" fill=\"#000000\" fill-rule=\"evenodd\" fill-opacity=\"1\" /><path clip-path=\"url(#clip300)\" d=\"M1680.62 1548.29 L1688.26 1548.29 L1688.26 1521.92 L1679.95 1523.59 L1679.95 1519.33 L1688.21 1517.66 L1692.88 1517.66 L1692.88 1548.29 L1700.52 1548.29 L1700.52 1552.22 L1680.62 1552.22 L1680.62 1548.29 Z\" fill=\"#000000\" fill-rule=\"evenodd\" fill-opacity=\"1\" /><path clip-path=\"url(#clip300)\" d=\"M1719.97 1520.74 Q1716.36 1520.74 1714.53 1524.31 Q1712.72 1527.85 1712.72 1534.98 Q1712.72 1542.09 1714.53 1545.65 Q1716.36 1549.19 1719.97 1549.19 Q1723.6 1549.19 1725.41 1545.65 Q1727.24 1542.09 1727.24 1534.98 Q1727.24 1527.85 1725.41 1524.31 Q1723.6 1520.74 1719.97 1520.74 M1719.97 1517.04 Q1725.78 1517.04 1728.83 1521.65 Q1731.91 1526.23 1731.91 1534.98 Q1731.91 1543.71 1728.83 1548.31 Q1725.78 1552.9 1719.97 1552.9 Q1714.16 1552.9 1711.08 1548.31 Q1708.02 1543.71 1708.02 1534.98 Q1708.02 1526.23 1711.08 1521.65 Q1714.16 1517.04 1719.97 1517.04 Z\" fill=\"#000000\" fill-rule=\"evenodd\" fill-opacity=\"1\" /><path clip-path=\"url(#clip300)\" d=\"M1741.94 1509.26 Q1739.38 1509.26 1737.87 1511.01 Q1736.39 1512.76 1736.39 1515.81 Q1736.39 1518.83 1737.87 1520.6 Q1739.38 1522.35 1741.94 1522.35 Q1744.49 1522.35 1745.98 1520.6 Q1747.49 1518.83 1747.49 1515.81 Q1747.49 1512.76 1745.98 1511.01 Q1744.49 1509.26 1741.94 1509.26 M1749.48 1497.35 L1749.48 1500.82 Q1748.05 1500.14 1746.58 1499.78 Q1745.13 1499.42 1743.7 1499.42 Q1739.94 1499.42 1737.95 1501.96 Q1735.97 1504.5 1735.69 1509.64 Q1736.8 1508 1738.48 1507.13 Q1740.15 1506.25 1742.16 1506.25 Q1746.39 1506.25 1748.84 1508.83 Q1751.3 1511.39 1751.3 1515.81 Q1751.3 1520.13 1748.75 1522.75 Q1746.19 1525.36 1741.94 1525.36 Q1737.07 1525.36 1734.49 1521.64 Q1731.91 1517.89 1731.91 1510.8 Q1731.91 1504.14 1735.07 1500.19 Q1738.23 1496.23 1743.55 1496.23 Q1744.98 1496.23 1746.43 1496.51 Q1747.9 1496.79 1749.48 1497.35 Z\" fill=\"#000000\" fill-rule=\"evenodd\" fill-opacity=\"1\" /><polyline clip-path=\"url(#clip302)\" style=\"stroke:#000000; stroke-linecap:butt; stroke-linejoin:round; stroke-width:2; stroke-opacity:0.1; fill:none\" points=\"\n  213.607,1340.18 2352.76,1340.18 \n  \"/>\n<polyline clip-path=\"url(#clip302)\" style=\"stroke:#000000; stroke-linecap:butt; stroke-linejoin:round; stroke-width:2; stroke-opacity:0.1; fill:none\" points=\"\n  213.607,872.152 2352.76,872.152 \n  \"/>\n<polyline clip-path=\"url(#clip302)\" style=\"stroke:#000000; stroke-linecap:butt; stroke-linejoin:round; stroke-width:2; stroke-opacity:0.1; fill:none\" points=\"\n  213.607,404.128 2352.76,404.128 \n  \"/>\n<polyline clip-path=\"url(#clip300)\" style=\"stroke:#000000; stroke-linecap:butt; stroke-linejoin:round; stroke-width:4; stroke-opacity:1; fill:none\" points=\"\n  213.607,1474.16 213.607,47.2441 \n  \"/>\n<polyline clip-path=\"url(#clip300)\" style=\"stroke:#000000; stroke-linecap:butt; stroke-linejoin:round; stroke-width:4; stroke-opacity:1; fill:none\" points=\"\n  213.607,1340.18 232.505,1340.18 \n  \"/>\n<polyline clip-path=\"url(#clip300)\" style=\"stroke:#000000; stroke-linecap:butt; stroke-linejoin:round; stroke-width:4; stroke-opacity:1; fill:none\" points=\"\n  213.607,872.152 232.505,872.152 \n  \"/>\n<polyline clip-path=\"url(#clip300)\" style=\"stroke:#000000; stroke-linecap:butt; stroke-linejoin:round; stroke-width:4; stroke-opacity:1; fill:none\" points=\"\n  213.607,404.128 232.505,404.128 \n  \"/>\n<path clip-path=\"url(#clip300)\" d=\"M52.4722 1359.97 L60.111 1359.97 L60.111 1333.6 L51.8009 1335.27 L51.8009 1331.01 L60.0647 1329.34 L64.7406 1329.34 L64.7406 1359.97 L72.3795 1359.97 L72.3795 1363.9 L52.4722 1363.9 L52.4722 1359.97 Z\" fill=\"#000000\" fill-rule=\"evenodd\" fill-opacity=\"1\" /><path clip-path=\"url(#clip300)\" d=\"M91.8238 1332.42 Q88.2127 1332.42 86.384 1335.99 Q84.5785 1339.53 84.5785 1346.66 Q84.5785 1353.76 86.384 1357.33 Q88.2127 1360.87 91.8238 1360.87 Q95.458 1360.87 97.2636 1357.33 Q99.0923 1353.76 99.0923 1346.66 Q99.0923 1339.53 97.2636 1335.99 Q95.458 1332.42 91.8238 1332.42 M91.8238 1328.72 Q97.6339 1328.72 100.689 1333.32 Q103.768 1337.91 103.768 1346.66 Q103.768 1355.38 100.689 1359.99 Q97.6339 1364.57 91.8238 1364.57 Q86.0136 1364.57 82.935 1359.99 Q79.8794 1355.38 79.8794 1346.66 Q79.8794 1337.91 82.935 1333.32 Q86.0136 1328.72 91.8238 1328.72 Z\" fill=\"#000000\" fill-rule=\"evenodd\" fill-opacity=\"1\" /><path clip-path=\"url(#clip300)\" d=\"M103.768 1322.82 L127.88 1322.82 L127.88 1326.02 L103.768 1326.02 L103.768 1322.82 Z\" fill=\"#000000\" fill-rule=\"evenodd\" fill-opacity=\"1\" /><path clip-path=\"url(#clip300)\" d=\"M136.738 1333.3 L142.945 1333.3 L142.945 1311.87 L136.193 1313.23 L136.193 1309.77 L142.907 1308.41 L146.706 1308.41 L146.706 1333.3 L152.913 1333.3 L152.913 1336.49 L136.738 1336.49 L136.738 1333.3 Z\" fill=\"#000000\" fill-rule=\"evenodd\" fill-opacity=\"1\" /><path clip-path=\"url(#clip300)\" d=\"M160.624 1308.41 L175.539 1308.41 L175.539 1311.61 L164.103 1311.61 L164.103 1318.49 Q164.931 1318.21 165.759 1318.08 Q166.586 1317.93 167.414 1317.93 Q172.116 1317.93 174.862 1320.51 Q177.607 1323.08 177.607 1327.48 Q177.607 1332.02 174.786 1334.54 Q171.965 1337.04 166.831 1337.04 Q165.063 1337.04 163.22 1336.74 Q161.395 1336.44 159.439 1335.83 L159.439 1332.02 Q161.132 1332.94 162.937 1333.39 Q164.743 1333.84 166.755 1333.84 Q170.009 1333.84 171.909 1332.13 Q173.808 1330.42 173.808 1327.48 Q173.808 1324.55 171.909 1322.84 Q170.009 1321.13 166.755 1321.13 Q165.232 1321.13 163.709 1321.47 Q162.204 1321.8 160.624 1322.52 L160.624 1308.41 Z\" fill=\"#000000\" fill-rule=\"evenodd\" fill-opacity=\"1\" /><path clip-path=\"url(#clip300)\" d=\"M51.6634 891.944 L59.3023 891.944 L59.3023 865.579 L50.9921 867.245 L50.9921 862.986 L59.256 861.319 L63.9319 861.319 L63.9319 891.944 L71.5707 891.944 L71.5707 895.879 L51.6634 895.879 L51.6634 891.944 Z\" fill=\"#000000\" fill-rule=\"evenodd\" fill-opacity=\"1\" /><path clip-path=\"url(#clip300)\" d=\"M91.0151 864.398 Q87.404 864.398 85.5753 867.963 Q83.7697 871.504 83.7697 878.634 Q83.7697 885.74 85.5753 889.305 Q87.404 892.847 91.0151 892.847 Q94.6493 892.847 96.4548 889.305 Q98.2835 885.74 98.2835 878.634 Q98.2835 871.504 96.4548 867.963 Q94.6493 864.398 91.0151 864.398 M91.0151 860.694 Q96.8252 860.694 99.8808 865.301 Q102.959 869.884 102.959 878.634 Q102.959 887.361 99.8808 891.967 Q96.8252 896.551 91.0151 896.551 Q85.2049 896.551 82.1262 891.967 Q79.0707 887.361 79.0707 878.634 Q79.0707 869.884 82.1262 865.301 Q85.2049 860.694 91.0151 860.694 Z\" fill=\"#000000\" fill-rule=\"evenodd\" fill-opacity=\"1\" /><path clip-path=\"url(#clip300)\" d=\"M102.959 854.796 L127.071 854.796 L127.071 857.993 L102.959 857.993 L102.959 854.796 Z\" fill=\"#000000\" fill-rule=\"evenodd\" fill-opacity=\"1\" /><path clip-path=\"url(#clip300)\" d=\"M135.929 865.272 L142.136 865.272 L142.136 843.85 L135.384 845.204 L135.384 841.743 L142.098 840.389 L145.898 840.389 L145.898 865.272 L152.104 865.272 L152.104 868.469 L135.929 868.469 L135.929 865.272 Z\" fill=\"#000000\" fill-rule=\"evenodd\" fill-opacity=\"1\" /><path clip-path=\"url(#clip300)\" d=\"M167.903 842.89 Q164.969 842.89 163.483 845.787 Q162.016 848.664 162.016 854.457 Q162.016 860.231 163.483 863.127 Q164.969 866.005 167.903 866.005 Q170.855 866.005 172.322 863.127 Q173.808 860.231 173.808 854.457 Q173.808 848.664 172.322 845.787 Q170.855 842.89 167.903 842.89 M167.903 839.881 Q172.623 839.881 175.106 843.624 Q177.607 847.348 177.607 854.457 Q177.607 861.548 175.106 865.29 Q172.623 869.014 167.903 869.014 Q163.182 869.014 160.68 865.29 Q158.198 861.548 158.198 854.457 Q158.198 847.348 160.68 843.624 Q163.182 839.881 167.903 839.881 Z\" fill=\"#000000\" fill-rule=\"evenodd\" fill-opacity=\"1\" /><path clip-path=\"url(#clip300)\" d=\"M76.9787 423.92 L84.6175 423.92 L84.6175 397.555 L76.3074 399.221 L76.3074 394.962 L84.5712 393.296 L89.2471 393.296 L89.2471 423.92 L96.886 423.92 L96.886 427.856 L76.9787 427.856 L76.9787 423.92 Z\" fill=\"#000000\" fill-rule=\"evenodd\" fill-opacity=\"1\" /><path clip-path=\"url(#clip300)\" d=\"M116.33 396.374 Q112.719 396.374 110.891 399.939 Q109.085 403.481 109.085 410.61 Q109.085 417.717 110.891 421.282 Q112.719 424.823 116.33 424.823 Q119.965 424.823 121.77 421.282 Q123.599 417.717 123.599 410.61 Q123.599 403.481 121.77 399.939 Q119.965 396.374 116.33 396.374 M116.33 392.671 Q122.14 392.671 125.196 397.277 Q128.275 401.86 128.275 410.61 Q128.275 419.337 125.196 423.944 Q122.14 428.527 116.33 428.527 Q110.52 428.527 107.441 423.944 Q104.386 419.337 104.386 410.61 Q104.386 401.86 107.441 397.277 Q110.52 392.671 116.33 392.671 Z\" fill=\"#000000\" fill-rule=\"evenodd\" fill-opacity=\"1\" /><path clip-path=\"url(#clip300)\" d=\"M128.275 386.772 L152.386 386.772 L152.386 389.969 L128.275 389.969 L128.275 386.772 Z\" fill=\"#000000\" fill-rule=\"evenodd\" fill-opacity=\"1\" /><path clip-path=\"url(#clip300)\" d=\"M160.624 372.365 L175.539 372.365 L175.539 375.562 L164.103 375.562 L164.103 382.446 Q164.931 382.164 165.759 382.032 Q166.586 381.882 167.414 381.882 Q172.116 381.882 174.862 384.459 Q177.607 387.035 177.607 391.436 Q177.607 395.969 174.786 398.489 Q171.965 400.991 166.831 400.991 Q165.063 400.991 163.22 400.69 Q161.395 400.389 159.439 399.787 L159.439 395.969 Q161.132 396.89 162.937 397.342 Q164.743 397.793 166.755 397.793 Q170.009 397.793 171.909 396.082 Q173.808 394.37 173.808 391.436 Q173.808 388.502 171.909 386.791 Q170.009 385.079 166.755 385.079 Q165.232 385.079 163.709 385.418 Q162.204 385.756 160.624 386.471 L160.624 372.365 Z\" fill=\"#000000\" fill-rule=\"evenodd\" fill-opacity=\"1\" /><circle clip-path=\"url(#clip302)\" cx=\"274.149\" cy=\"234.635\" r=\"14\" fill=\"#009af9\" fill-rule=\"evenodd\" fill-opacity=\"1\" stroke=\"#000000\" stroke-opacity=\"1\" stroke-width=\"3.2\"/>\n<circle clip-path=\"url(#clip302)\" cx=\"562.444\" cy=\"430.259\" r=\"14\" fill=\"#009af9\" fill-rule=\"evenodd\" fill-opacity=\"1\" stroke=\"#000000\" stroke-opacity=\"1\" stroke-width=\"3.2\"/>\n<circle clip-path=\"url(#clip302)\" cx=\"850.739\" cy=\"618.21\" r=\"14\" fill=\"#009af9\" fill-rule=\"evenodd\" fill-opacity=\"1\" stroke=\"#000000\" stroke-opacity=\"1\" stroke-width=\"3.2\"/>\n<circle clip-path=\"url(#clip302)\" cx=\"1139.03\" cy=\"803.853\" r=\"14\" fill=\"#009af9\" fill-rule=\"evenodd\" fill-opacity=\"1\" stroke=\"#000000\" stroke-opacity=\"1\" stroke-width=\"3.2\"/>\n<circle clip-path=\"url(#clip302)\" cx=\"1427.33\" cy=\"860.429\" r=\"14\" fill=\"#009af9\" fill-rule=\"evenodd\" fill-opacity=\"1\" stroke=\"#000000\" stroke-opacity=\"1\" stroke-width=\"3.2\"/>\n<circle clip-path=\"url(#clip302)\" cx=\"1715.62\" cy=\"563.557\" r=\"14\" fill=\"#009af9\" fill-rule=\"evenodd\" fill-opacity=\"1\" stroke=\"#000000\" stroke-opacity=\"1\" stroke-width=\"3.2\"/>\n<circle clip-path=\"url(#clip302)\" cx=\"2003.92\" cy=\"492.666\" r=\"14\" fill=\"#009af9\" fill-rule=\"evenodd\" fill-opacity=\"1\" stroke=\"#000000\" stroke-opacity=\"1\" stroke-width=\"3.2\"/>\n<circle clip-path=\"url(#clip302)\" cx=\"2292.21\" cy=\"87.6286\" r=\"14\" fill=\"#009af9\" fill-rule=\"evenodd\" fill-opacity=\"1\" stroke=\"#000000\" stroke-opacity=\"1\" stroke-width=\"3.2\"/>\n<polyline clip-path=\"url(#clip302)\" style=\"stroke:#e26f46; stroke-linecap:butt; stroke-linejoin:round; stroke-width:4; stroke-opacity:1; fill:none\" points=\"\n  274.149,123.314 562.444,310.523 850.739,497.733 1139.03,684.942 1427.33,872.152 1715.62,1059.36 2003.92,1246.57 2292.21,1433.78 \n  \"/>\n<path clip-path=\"url(#clip300)\" d=\"\nM1907.66 250.328 L2281.45 250.328 L2281.45 94.8081 L1907.66 94.8081  Z\n  \" fill=\"#ffffff\" fill-rule=\"evenodd\" fill-opacity=\"1\"/>\n<polyline clip-path=\"url(#clip300)\" style=\"stroke:#000000; stroke-linecap:butt; stroke-linejoin:round; stroke-width:4; stroke-opacity:1; fill:none\" points=\"\n  1907.66,250.328 2281.45,250.328 2281.45,94.8081 1907.66,94.8081 1907.66,250.328 \n  \"/>\n<circle clip-path=\"url(#clip300)\" cx=\"2002.73\" cy=\"146.648\" r=\"23\" fill=\"#009af9\" fill-rule=\"evenodd\" fill-opacity=\"1\" stroke=\"#000000\" stroke-opacity=\"1\" stroke-width=\"5.12\"/>\n<path clip-path=\"url(#clip300)\" d=\"M2121.83 149.9 L2121.83 151.984 L2102.25 151.984 Q2102.53 156.382 2104.89 158.697 Q2107.27 160.988 2111.51 160.988 Q2113.96 160.988 2116.25 160.386 Q2118.57 159.785 2120.84 158.581 L2120.84 162.609 Q2118.54 163.581 2116.14 164.09 Q2113.73 164.599 2111.25 164.599 Q2105.05 164.599 2101.42 160.988 Q2097.8 157.377 2097.8 151.22 Q2097.8 144.854 2101.23 141.127 Q2104.68 137.377 2110.51 137.377 Q2115.74 137.377 2118.78 140.757 Q2121.83 144.113 2121.83 149.9 M2117.57 148.65 Q2117.53 145.155 2115.6 143.072 Q2113.71 140.988 2110.56 140.988 Q2106.99 140.988 2104.84 143.002 Q2102.71 145.016 2102.39 148.674 L2117.57 148.65 Z\" fill=\"#000000\" fill-rule=\"evenodd\" fill-opacity=\"1\" /><path clip-path=\"url(#clip300)\" d=\"M2143.85 141.984 Q2143.13 141.567 2142.27 141.382 Q2141.44 141.174 2140.42 141.174 Q2136.81 141.174 2134.86 143.535 Q2132.94 145.873 2132.94 150.271 L2132.94 163.928 L2128.66 163.928 L2128.66 138.002 L2132.94 138.002 L2132.94 142.03 Q2134.29 139.669 2136.44 138.535 Q2138.59 137.377 2141.67 137.377 Q2142.11 137.377 2142.64 137.447 Q2143.17 137.493 2143.82 137.609 L2143.85 141.984 Z\" fill=\"#000000\" fill-rule=\"evenodd\" fill-opacity=\"1\" /><path clip-path=\"url(#clip300)\" d=\"M2162.5 141.984 Q2161.79 141.567 2160.93 141.382 Q2160.1 141.174 2159.08 141.174 Q2155.47 141.174 2153.52 143.535 Q2151.6 145.873 2151.6 150.271 L2151.6 163.928 L2147.32 163.928 L2147.32 138.002 L2151.6 138.002 L2151.6 142.03 Q2152.94 139.669 2155.1 138.535 Q2157.25 137.377 2160.33 137.377 Q2160.77 137.377 2161.3 137.447 Q2161.83 137.493 2162.48 137.609 L2162.5 141.984 Z\" fill=\"#000000\" fill-rule=\"evenodd\" fill-opacity=\"1\" /><path clip-path=\"url(#clip300)\" d=\"M2175.97 140.988 Q2172.55 140.988 2170.56 143.674 Q2168.57 146.336 2168.57 150.988 Q2168.57 155.641 2170.54 158.326 Q2172.53 160.988 2175.97 160.988 Q2179.38 160.988 2181.37 158.303 Q2183.36 155.618 2183.36 150.988 Q2183.36 146.382 2181.37 143.697 Q2179.38 140.988 2175.97 140.988 M2175.97 137.377 Q2181.53 137.377 2184.7 140.988 Q2187.87 144.6 2187.87 150.988 Q2187.87 157.354 2184.7 160.988 Q2181.53 164.599 2175.97 164.599 Q2170.4 164.599 2167.22 160.988 Q2164.08 157.354 2164.08 150.988 Q2164.08 144.6 2167.22 140.988 Q2170.4 137.377 2175.97 137.377 Z\" fill=\"#000000\" fill-rule=\"evenodd\" fill-opacity=\"1\" /><path clip-path=\"url(#clip300)\" d=\"M2209.96 141.984 Q2209.24 141.567 2208.38 141.382 Q2207.55 141.174 2206.53 141.174 Q2202.92 141.174 2200.97 143.535 Q2199.05 145.873 2199.05 150.271 L2199.05 163.928 L2194.77 163.928 L2194.77 138.002 L2199.05 138.002 L2199.05 142.03 Q2200.4 139.669 2202.55 138.535 Q2204.7 137.377 2207.78 137.377 Q2208.22 137.377 2208.75 137.447 Q2209.28 137.493 2209.93 137.609 L2209.96 141.984 Z\" fill=\"#000000\" fill-rule=\"evenodd\" fill-opacity=\"1\" /><polyline clip-path=\"url(#clip300)\" style=\"stroke:#e26f46; stroke-linecap:butt; stroke-linejoin:round; stroke-width:4; stroke-opacity:1; fill:none\" points=\"\n  1931.43,198.488 2074.04,198.488 \n  \"/>\n<path clip-path=\"url(#clip300)\" d=\"M2098.48 211.833 L2106.11 211.833 L2106.11 185.467 L2097.8 187.134 L2097.8 182.875 L2106.07 181.208 L2110.74 181.208 L2110.74 211.833 L2118.38 211.833 L2118.38 215.768 L2098.48 215.768 L2098.48 211.833 Z\" fill=\"#000000\" fill-rule=\"evenodd\" fill-opacity=\"1\" /><path clip-path=\"url(#clip300)\" d=\"M2134.79 181.208 L2138.73 181.208 L2126.69 220.166 L2122.76 220.166 L2134.79 181.208 Z\" fill=\"#000000\" fill-rule=\"evenodd\" fill-opacity=\"1\" /><path clip-path=\"url(#clip300)\" d=\"M2164.75 200.12 L2164.75 215.768 L2160.49 215.768 L2160.49 200.259 Q2160.49 196.578 2159.05 194.75 Q2157.62 192.921 2154.75 192.921 Q2151.3 192.921 2149.31 195.12 Q2147.32 197.319 2147.32 201.115 L2147.32 215.768 L2143.04 215.768 L2143.04 189.842 L2147.32 189.842 L2147.32 193.87 Q2148.85 191.532 2150.91 190.375 Q2152.99 189.217 2155.7 189.217 Q2160.16 189.217 2162.46 191.995 Q2164.75 194.75 2164.75 200.12 Z\" fill=\"#000000\" fill-rule=\"evenodd\" fill-opacity=\"1\" /><path clip-path=\"url(#clip300)\" d=\"M2190.91 181.208 L2203.47 194.102 L2198.82 194.102 L2188.64 184.958 L2178.45 194.102 L2173.8 194.102 L2186.37 181.208 L2190.91 181.208 Z\" fill=\"#000000\" fill-rule=\"evenodd\" fill-opacity=\"1\" /><path clip-path=\"url(#clip300)\" d=\"M2217.59 211.833 L2233.91 211.833 L2233.91 215.768 L2211.97 215.768 L2211.97 211.833 Q2214.63 209.078 2219.22 204.449 Q2223.82 199.796 2225 198.453 Q2227.25 195.93 2228.13 194.194 Q2229.03 192.435 2229.03 190.745 Q2229.03 187.99 2227.09 186.254 Q2225.16 184.518 2222.06 184.518 Q2219.86 184.518 2217.41 185.282 Q2214.98 186.046 2212.2 187.597 L2212.2 182.875 Q2215.03 181.741 2217.48 181.162 Q2219.93 180.583 2221.97 180.583 Q2227.34 180.583 2230.53 183.268 Q2233.73 185.953 2233.73 190.444 Q2233.73 192.574 2232.92 194.495 Q2232.13 196.393 2230.03 198.986 Q2229.45 199.657 2226.34 202.875 Q2223.24 206.069 2217.59 211.833 Z\" fill=\"#000000\" fill-rule=\"evenodd\" fill-opacity=\"1\" /></svg>\n"
     },
     "execution_count": 39,
     "metadata": {},
     "output_type": "execute_result"
    }
   ],
   "source": [
    "function poisson_err(u, c0, c1, f, n)\n",
    "    x = range(0,1; length = n)\n",
    "    h = step(x)\n",
    "\n",
    "    T = Tridiagonal([fill(1/h^2, n-2);0], [1; fill(-2/h^2, n-2); 1], [0; fill(1/h^2, n-2)])\n",
    "    uᶠ = T \\ [c0; f.(x[2:end-1]); c1]\n",
    "\n",
    "    norm(uᶠ - u.(x), Inf)\n",
    "end\n",
    "\n",
    "# Now we implement another version using SymTridiagonal (faster)\n",
    "function poisson_err2(u, c0, c1, f, n)\n",
    "    x = range(0,1; length = n)\n",
    "    h = step(x)\n",
    "\n",
    "    Δ = SymTridiagonal(fill(-2/h^2, n-2), fill(1/h^2, n-3)) # We discard the boundary values first\n",
    "    ũᶠ = Δ \\ [f(x[2]) - c0/h^2; f.(x[3:end-2]); f(x[end-1]) - c1/h^2]\n",
    "    uᶠ = [c0; ũᶠ; c1]\n",
    "\n",
    "    norm(uᶠ - u.(x), Inf)\n",
    "end\n",
    "\n",
    "u = x -> cos(x^2)\n",
    "f = x -> -4x^2 * cos(x^2) - 2sin(x^2)\n",
    "\n",
    "ns = 10 .^ (1:8)\n",
    "scatter(ns, poisson_err2.(u, 1, cos(1), f, ns); xscale=:log10, yscale=:log10, label=\"error\")\n",
    "plot!(ns, ns .^ (-2); label=\"1/n^2\")"
   ]
  },
  {
   "cell_type": "markdown",
   "metadata": {},
   "source": [
    "### Another Example Question\n",
    "\n",
    "Construct a finite-difference approximation to the\n",
    "forced Helmholtz equation\n",
    "$$\n",
    "\\begin{align*}\n",
    "u(0) &= 0 \\\\\n",
    "u(1) &= 0 \\\\\n",
    "u'' + k^2 u &= {\\rm e}^x\n",
    "\\end{align*}\n",
    "$$\n",
    "and find an $n$ such  the error is less than $10^{-4}$ when compared\n",
    "with the true solution for $k=10$:\n",
    "$$\n",
    "u(x) = (-\\cos(k x) + {\\rm e}^x \\cos(k x)^2 + \\cot(k) \\sin(k x) - {\\rm e} \\cos(k) \\cot(k) \\sin(k x) - {\\rm e} \\sin(k) \\sin(k x) + {\\rm e}^x \\sin(k x)^2)/(1 + k^2)\n",
    "$$"
   ]
  },
  {
   "cell_type": "code",
   "execution_count": 2,
   "metadata": {},
   "outputs": [
    {
     "data": {
      "text/plain": [
       "\u001b[32m\u001b[1mTest Passed\u001b[22m\u001b[39m\n",
       "  Expression: norm(helm(k, n) - u.(x)) ≤ 0.0001\n",
       "   Evaluated: 3.2770124444939947e-6 ≤ 0.0001"
      ]
     },
     "execution_count": 2,
     "metadata": {},
     "output_type": "execute_result"
    }
   ],
   "source": [
    "function helm(k, n)\n",
    "    x = range(0, 1; length = n)\n",
    "    h = step(x)\n",
    "    # TODO: Create a SymTridiagonal discretisation\n",
    "    T = SymTridiagonal(fill(k^2-2/h^2, n-2), fill(1/h^2, n-3))\n",
    "    ũ = T \\ [exp(x[2]); exp.(x[3:end-2]); exp(x[end-1])]\n",
    "    u = [0; ũ; 0]\n",
    "end\n",
    "\n",
    "k = 10\n",
    "u = x -> (-cos(k*x) + exp(x)cos(k*x)^2 + cot(k)sin(k*x) - ℯ*cos(k)cot(k)sin(k*x) - ℯ*sin(k)sin(k*x) + exp(x)sin(k*x)^2)/(1 + k^2)\n",
    "\n",
    "n = 10_000 # TODO: choose n to get convergence\n",
    "x = range(0, 1; length=n)\n",
    "@test norm(helm(k, n) - u.(x)) ≤ 1E-4"
   ]
  },
  {
   "cell_type": "markdown",
   "metadata": {},
   "source": [
    "### (hopefully) Last Example Question\n",
    " Discretisations can also be used to solve eigenvalue equations.\n",
    "Consider the Schrödinger equation with quadratic oscillator:\n",
    "$$\n",
    "u(-L) = u(L) = 0, -u'' + x^2 u = λ u\n",
    "$$\n",
    "Approximate the eigenvalues using `eigvals(A)` (which returns the eigenvalues of a\n",
    "matrix `A`) with $L = 10$.\n",
    "Can you conjecture their exact value if $L = ∞$? (Hint: they are integers and the eigenvalues\n",
    "closest to zero are most accurate.)"
   ]
  },
  {
   "cell_type": "code",
   "execution_count": 53,
   "metadata": {},
   "outputs": [
    {
     "data": {
      "text/plain": [
       "998-element Vector{Float64}:\n",
       "     0.9999749492977316\n",
       "     2.999874743976697\n",
       "     4.999674327058133\n",
       "     6.999373691007382\n",
       "     8.998972828286286\n",
       "    10.99847173136418\n",
       "    12.997870392696692\n",
       "    14.997168804739214\n",
       "    16.9963669599553\n",
       "    18.995464850797372\n",
       "    20.99446246971592\n",
       "    22.99335980916551\n",
       "    24.992156861590303\n",
       "     ⋮\n",
       " 10020.084643187867\n",
       " 10020.08464318788\n",
       " 10026.484841478732\n",
       " 10026.484841478743\n",
       " 10033.606931820945\n",
       " 10033.606931820945\n",
       " 10041.682004542276\n",
       " 10041.68200454228\n",
       " 10051.156993554187\n",
       " 10051.156993554216\n",
       " 10063.190188090453\n",
       " 10063.190188090477"
      ]
     },
     "execution_count": 53,
     "metadata": {},
     "output_type": "execute_result"
    }
   ],
   "source": [
    "L = 10\n",
    "n = 1000\n",
    "x = range(-L, L; length = n)\n",
    "h = step(x)\n",
    "\n",
    "eigvals(SymTridiagonal(fill(2/h^2, n-2) + x[2:end-1].^2, fill(-1/h^2, n-3))) # Notice the changes of signs due to -u''"
   ]
  },
  {
   "cell_type": "markdown",
   "metadata": {},
   "source": [
    "### Convergence for forward and backward euler\n",
    "\n",
    "Consider the equation\n",
    "$$\n",
    "u(0) = c, u'(t) + a u(t) = f(t)\n",
    "$$\n",
    "Denote\n",
    "$$\n",
    "𝐮 := \\begin{bmatrix} u(t_1) \\\\ ⋮ \\\\ u(t_n) \\end{bmatrix}\n",
    "$$\n",
    "Assume that $u$ is twice-differentiable with uniformly bounded\n",
    "second derivative.\n",
    "Then the error for forward/backward Euler is\n",
    "$$\n",
    "\\|𝐮ᶠ - 𝐮\\|_∞, \\|𝐮ᵇ - 𝐮\\|_∞ = O(n^{-1})\n",
    "$$\n",
    "which means the error goes to 0 as n tends to infinity.\n",
    "\n",
    "### Convergence for Poisson\n",
    "\n",
    " Suppose that $u$ is four-times differentiable with uniformly\n",
    "bounded fourth derivative. Then the finite difference approximation to Poisson converges like $O(n^2)$."
   ]
  }
 ],
 "metadata": {
  "kernelspec": {
   "display_name": "Julia 1.7.2",
   "language": "julia",
   "name": "julia-1.7"
  },
  "language_info": {
   "file_extension": ".jl",
   "mimetype": "application/julia",
   "name": "julia",
   "version": "1.7.2"
  },
  "orig_nbformat": 4
 },
 "nbformat": 4,
 "nbformat_minor": 2
}
