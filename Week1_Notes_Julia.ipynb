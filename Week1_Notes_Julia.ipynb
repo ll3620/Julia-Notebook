{
 "cells": [
  {
   "cell_type": "markdown",
   "metadata": {},
   "source": [
    "## MATH50003 Week 1 Notes "
   ]
  },
  {
   "cell_type": "code",
   "execution_count": 3,
   "metadata": {},
   "outputs": [],
   "source": [
    "using SetRounding, ColorBitstring"
   ]
  },
  {
   "cell_type": "code",
   "execution_count": 21,
   "metadata": {},
   "outputs": [
    {
     "name": "stdout",
     "output_type": "stream",
     "text": [
      "255\n",
      "\u001b[34m11111111\u001b[0m+\n",
      "\u001b[34m00000001\u001b[0m=\n",
      "\u001b[34m00000000\u001b[0m"
     ]
    },
    {
     "data": {
      "text/plain": [
       "\"print() and println() do the same thing except println() will add an new line to the end of the output. \\nprintbits() will output the bit representation of the number.\\n\""
      ]
     },
     "execution_count": 21,
     "metadata": {},
     "output_type": "execute_result"
    }
   ],
   "source": [
    "#8-bit unsigned integers\n",
    "x = UInt8(255)\n",
    "y = UInt8(1)\n",
    "println(x); printbits(x); println(\"+\"); printbits(y); println(\"=\")\n",
    "printbits(x+y)\n",
    "\n",
    "\n",
    "\"\"\"\n",
    "print() and println() do the same thing except println() will add an new line to the end of the output. \n",
    "printbits() will output the bit representation of the number.\n",
    "\"\"\""
   ]
  },
  {
   "cell_type": "code",
   "execution_count": 22,
   "metadata": {},
   "outputs": [
    {
     "name": "stdout",
     "output_type": "stream",
     "text": [
      "55\n",
      "\u001b[31m1\u001b[0m\u001b[34m1001001\u001b[0m\n"
     ]
    }
   ],
   "source": [
    "#8-bit signed integers\n",
    "println(Int8(55)); printlnbits(-Int8(55))"
   ]
  },
  {
   "cell_type": "code",
   "execution_count": 24,
   "metadata": {},
   "outputs": [
    {
     "name": "stdout",
     "output_type": "stream",
     "text": [
      "\u001b[31m0\u001b[0m\u001b[34m1111111\u001b[0m\n",
      "\u001b[31m1\u001b[0m\u001b[34m0000000\u001b[0m\n"
     ]
    }
   ],
   "source": [
    "#Find the largest and smallest instances of 8-bit integers\n",
    "printlnbits(typemax(Int8)) #2^7 - 1 = 127\n",
    "printlnbits(typemin(Int8)) #- 2^7 = -128"
   ]
  },
  {
   "cell_type": "code",
   "execution_count": 36,
   "metadata": {},
   "outputs": [
    {
     "name": "stdout",
     "output_type": "stream",
     "text": [
      "true\n",
      "2\n",
      "true\n",
      "2.5\n",
      "5//2\n"
     ]
    }
   ],
   "source": [
    "#Division\n",
    "println(5 ÷ 2 == div(5,2)) \n",
    "println(5 ÷ 2) # Give integer\n",
    "println(5 / 2 == 2 \\ 5) # \\ means division on the right\n",
    "println(5 / 2) # / and \\ give floating point number\n",
    "println(5 // 2) # // gives rational number\n"
   ]
  },
  {
   "cell_type": "code",
   "execution_count": 48,
   "metadata": {},
   "outputs": [
    {
     "name": "stdout",
     "output_type": "stream",
     "text": [
      "\u001b[31m0\u001b[0m\u001b[32m01111101\u001b[0m\u001b[34m01010101010101010101011\u001b[0m\n",
      "\u001b[31m1\u001b[0m\u001b[32m01111111101\u001b[0m\u001b[34m0101010101010101010101010101010101010101010101010101\u001b[0m\n"
     ]
    }
   ],
   "source": [
    "#Float32 is represented by f0 in Julia\n",
    "printlnbits(1f0/3) #Float32 of 1/3\n",
    "\n",
    "#Default is Float64\n",
    "printlnbits(-1/3)"
   ]
  },
  {
   "cell_type": "code",
   "execution_count": 53,
   "metadata": {},
   "outputs": [
    {
     "name": "stdout",
     "output_type": "stream",
     "text": [
      "1.1920929e-7\n",
      "1.1754944e-38\n",
      "3.4028235e38\n",
      "\u001b[31m0\u001b[0m\u001b[32m00000001\u001b[0m\u001b[34m00000000000000000000000\u001b[0m\n",
      "\u001b[31m0\u001b[0m\u001b[32m00000000\u001b[0m\u001b[34m10000000000000000000000\u001b[0m\n"
     ]
    }
   ],
   "source": [
    "#Find the machine epsilon / smallest positive normal number/ largest normal number of given type of instance Float32\n",
    "println(eps(Float32))\n",
    "println(floatmin(Float32))\n",
    "println(floatmax(Float32))\n",
    "printlnbits(floatmin(Float32))\n",
    "printlnbits(floatmin(Float32)/2) #Divide the smallest normal number by 2 giving the subnormal number"
   ]
  },
  {
   "cell_type": "markdown",
   "metadata": {},
   "source": [
    "### Not a number: $F^{special}:=\\{\\infty, -\\infty, NaN \\}$\n",
    "\n",
    "\n",
    "Whenever the exponent bits are all 1, then they represent an element of $F^{special}$.\n",
    "\n",
    "If all the significant bits are all 0, the number represents either $\\pm \\infty$.\n",
    "If not, the number represent NaN.\n",
    "\n",
    "\n",
    "\n"
   ]
  },
  {
   "cell_type": "code",
   "execution_count": 56,
   "metadata": {},
   "outputs": [
    {
     "name": "stdout",
     "output_type": "stream",
     "text": [
      "\u001b[31m0\u001b[0m\u001b[32m11111\u001b[0m\u001b[34m0000000000\u001b[0m\n",
      "\u001b[31m1\u001b[0m\u001b[32m11111\u001b[0m\u001b[34m0000000000\u001b[0m\n",
      "\u001b[31m0\u001b[0m\u001b[32m11111\u001b[0m\u001b[34m1000000000\u001b[0m\n"
     ]
    }
   ],
   "source": [
    "#Example of 16-bit \n",
    "#for 64-bit, it is just Inf / NaN\n",
    "printlnbits(Inf16)\n",
    "printlnbits(-Inf16)\n",
    "printlnbits(NaN16)"
   ]
  },
  {
   "cell_type": "code",
   "execution_count": 60,
   "metadata": {},
   "outputs": [
    {
     "name": "stdout",
     "output_type": "stream",
     "text": [
      "\u001b[31m0\u001b[0m\u001b[32m01111111101\u001b[0m\u001b[34m0101010101010101010101010101010101010101010101010101\u001b[0m\n",
      "\u001b[31m0\u001b[0m\u001b[32m01111101\u001b[0m\u001b[34m01010101010101010101011\u001b[0m\n",
      "\u001b[31m0\u001b[0m\u001b[32m01111101\u001b[0m\u001b[34m01010101010101010101010\u001b[0m\n",
      "\u001b[31m0\u001b[0m\u001b[32m01111101\u001b[0m\u001b[34m01010101010101010101011\u001b[0m\n"
     ]
    }
   ],
   "source": [
    "#Rounding\n",
    "printlnbits(1/3) #64 bits\n",
    "printlnbits(Float32(1/3)) #By default, round to nearest 32-bit\n",
    "printlnbits(Float32(1/3, RoundDown)) #Round down \n",
    "printlnbits(Float32(1/3, RoundUp)) #Round up"
   ]
  },
  {
   "cell_type": "code",
   "execution_count": 62,
   "metadata": {},
   "outputs": [
    {
     "data": {
      "text/plain": [
       "(0.3333333f0, 0.33333334f0)"
      ]
     },
     "execution_count": 62,
     "metadata": {},
     "output_type": "execute_result"
    }
   ],
   "source": [
    "#Use setrounding to change the rounding mode for a chunk of code\n",
    "#Compute upper and lower bounds for /\n",
    "\n",
    "x = 1f0 # 1 in Float32\n",
    "\n",
    "setrounding(Float32, RoundDown) do \n",
    "    x/3\n",
    "end, #Use comma to output a tuple\n",
    "setrounding(Float32, RoundUp) do \n",
    "    x/3\n",
    "end"
   ]
  },
  {
   "cell_type": "markdown",
   "metadata": {},
   "source": [
    "### Rounding arithmetic\n",
    "\n",
    "If x $\\in \\mathbb{N}$, then $fl^{mode}(x)=x(1+\\delta_x^{mode}$) where the relative error is $|\\delta_x^{nearest}| \\leq \\frac{\\epsilon_m}{2}$ or $|\\delta_x^{up/down}| \\leq \\epsilon_m$"
   ]
  },
  {
   "cell_type": "code",
   "execution_count": 64,
   "metadata": {},
   "outputs": [
    {
     "data": {
      "text/plain": [
       "(4.440892098500626e-16, 1.0658141036401502e-15)"
      ]
     },
     "execution_count": 64,
     "metadata": {},
     "output_type": "execute_result"
    }
   ],
   "source": [
    "abs(3.6 .- (1.1 .+ 1.2 .+ 1.3)), 4.8eps()"
   ]
  },
  {
   "cell_type": "code",
   "execution_count": 65,
   "metadata": {},
   "outputs": [
    {
     "name": "stdout",
     "output_type": "stream",
     "text": [
      "\u001b[31m0\u001b[0m\u001b[34m0001010\u001b[0m\n"
     ]
    }
   ],
   "source": [
    "printlnbits(Int8(10))"
   ]
  },
  {
   "cell_type": "markdown",
   "metadata": {},
   "source": [
    "### Question\n",
    "Let $m(y)=min\\{x\\in F_{32}:x > y\\}$ be the smallest single precision number than y. \n",
    "\n",
    "Find m(2) and m(2)-2"
   ]
  },
  {
   "cell_type": "code",
   "execution_count": 76,
   "metadata": {},
   "outputs": [
    {
     "name": "stdout",
     "output_type": "stream",
     "text": [
      "2.0000002\n"
     ]
    },
    {
     "data": {
      "text/plain": [
       "2.3841858f-7"
      ]
     },
     "execution_count": 76,
     "metadata": {},
     "output_type": "execute_result"
    }
   ],
   "source": [
    "#Find the smallest single precision (Float32) nunmber than 2\n",
    "println(nextfloat(2f0))\n",
    "\n",
    "#m(2) - 2\n",
    "nextfloat(2f0) - 2"
   ]
  },
  {
   "cell_type": "markdown",
   "metadata": {},
   "source": [
    "### Question\n",
    "The following problems consider implementation of interval arithmetic for\n",
    "proving precise bounds on arithmetic operations. That is recall the set operations\n",
    "$$\n",
    "A + B = \\{x + y : x \\in A, y \\in B\\}, AB = \\{xy : x \\in A, y \\in B\\}.\n",
    "$$\n",
    "\n",
    "First,\n",
    "\n",
    "For intervals $A = [a,b]$ and $B = [c,d]$ such that $0 \\notin A,B$\n",
    " and integer $n \\neq 0$, \n",
    "deduce formulas for the minimum and maximum of $A/n$, $A+B$ and $AB$.\n",
    "\n",
    "Secondly,\n",
    "\n",
    "We want to implement floating point variants such that, for $S = [a,b] + [c,d]$\n",
    " $P = [a,b] * [c,d]$, and $D = [a,b]/n$ for an integer $n$,\n",
    "$$\n",
    "\\begin{align*}\n",
    "[a,b] ⊕ [c,d] &:= [{\\rm fl}^{\\rm down}(\\min S), {\\rm fl}^{\\rm up}(\\max S)] \\\\\n",
    "[a,b] ⊗ [c,d] &:= [{\\rm fl}^{\\rm down}(\\min P), {\\rm fl}^{\\rm up}(\\max P)] \\\\\n",
    "[a,b] ⊘ n &:= [{\\rm fl}^{\\rm down}(\\min D), {\\rm fl}^{\\rm up}(\\max D)]\n",
    "\\end{align*}\n",
    "$$\n",
    "This guarantees $S ⊆ [a,b] ⊕ [c,d]$, $P ⊆ [a,b] ⊗ [c,d]$, and\n",
    "$D ⊆ [a,b] ⊘ n$.\n",
    "In other words, if $x \\in [a,b]$ and\n",
    "$y \\in [c,d]$ then $x +y \\in [a,b] ⊕ [c,d]$, and we thereby have  bounds on $x + y$.\n",
    "\n",
    "Use the formulae from Problem 5.1 to complete (by replacing the `# TODO: …` comments with code)\n",
    " the following implementation of an \n",
    "`Interval` \n",
    "so that `+`, `-`, and `/` implement $⊕$, $⊖$, and $⊘$ as defined above."
   ]
  },
  {
   "cell_type": "markdown",
   "metadata": {},
   "source": [
    "For the first part,\n",
    "$$\n",
    "\\begin{align*}\n",
    "{A \\over n} &= \\begin{cases}\n",
    "[a/n,b/n] & n > 0 \\\\\n",
    "[b/n,a/n] & n < 0\n",
    "\\end{cases},\\\\\n",
    "A + B &= [a + c, b + d] \\\\\n",
    "AB &= \\begin{cases}\n",
    "[bd,ac]& a,b,c,d < 0 \\\\\n",
    "[ad,bc]& a,b < 0 \\hbox{ and } c,d >0 \\\\\n",
    "[bc,ad]& a,b > 0 \\hbox{ and } c,d  < 0 \\\\\n",
    "[ac,bd]& a,b,c,d > 0\n",
    "\\end{cases}\n",
    "\\end{align*}\n",
    "$$"
   ]
  },
  {
   "cell_type": "code",
   "execution_count": 82,
   "metadata": {},
   "outputs": [
    {
     "data": {
      "text/plain": [
       "* (generic function with 365 methods)"
      ]
     },
     "execution_count": 82,
     "metadata": {},
     "output_type": "execute_result"
    }
   ],
   "source": [
    "# Interval(a,b) represents the closed interval [a,b]\n",
    "struct Interval{T}\n",
    "    a::T\n",
    "    b::T\n",
    "end\n",
    "\n",
    "import Base: *, +, -, /, one, in\n",
    "\n",
    "# create an interval corresponding to [1,1]\n",
    "one(x::Interval) = Interval(one(x.a), one(x.b))\n",
    "\n",
    "# Support x in Interval(a,b)\n",
    "in(x, y::Interval) = y.a ≤ x ≤ y.b\n",
    "\n",
    "# Following should implement ⊕\n",
    "function +(x::Interval, y::Interval)\n",
    "    T = promote_type(typeof(x.a), typeof(x.b))\n",
    "    a = setrounding(T, RoundDown) do\n",
    "        # TODO: lower bound\n",
    "        x.a + y.a\n",
    "    end\n",
    "    b = setrounding(T, RoundUp) do\n",
    "        # TODO: upper bound\n",
    "        x.b + y.b\n",
    "    end\n",
    "    Interval(a, b)\n",
    "end\n",
    "\n",
    "# Following should implement ⊘\n",
    "function /(x::Interval, n::Integer)\n",
    "    T = typeof(x.a)\n",
    "    if iszero(n)\n",
    "        error(\"Dividing by zero not support\")\n",
    "    end\n",
    "    a = setrounding(T, RoundDown) do\n",
    "        # TODO: lower bound\n",
    "        if n > 0\n",
    "            x.a / n\n",
    "        else\n",
    "            x.b / n\n",
    "        end\n",
    "    end\n",
    "    b = setrounding(T, RoundUp) do\n",
    "        # TODO: upper bound\n",
    "        if n > 0\n",
    "            x.b / n\n",
    "        else\n",
    "            x.a /n\n",
    "        end\n",
    "    end\n",
    "    Interval(a, b)\n",
    "end\n",
    "\n",
    "# Following should implement ⊗\n",
    "function *(x::Interval, y::Interval)\n",
    "    T = promote_type(typeof(x.a), typeof(x.b))\n",
    "    if 0 in x || 0 in y\n",
    "        error(\"Multiplying with intervals containing 0 not supported.\")\n",
    "    end\n",
    "    a = setrounding(T, RoundDown) do\n",
    "        # TODO: lower bound\n",
    "        if x.a < 0 && x.b < 0 && y.a < 0 && y.b < 0 # && means 'and', || means 'or'\n",
    "            x.b * y.b\n",
    "        elseif x.a < 0 && x.b < 0 && y.a > 0 && y.b > 0\n",
    "            x.a * y.b\n",
    "        elseif x.a > 0 && x.b > 0 && y.a < 0 && y.b < 0\n",
    "            x.b * y.a\n",
    "        else\n",
    "            x.a * y.a\n",
    "        end\n",
    "    end\n",
    "    b = setrounding(T, RoundUp) do\n",
    "        # TODO: upper bound\n",
    "        if x.a < 0 && x.b < 0 && y.a < 0 && y.b < 0 # && means 'and', || means 'or'\n",
    "            x.a * y.a\n",
    "        elseif x.a < 0 && x.b < 0 && y.a > 0 && y.b > 0\n",
    "            x.b * y.a\n",
    "        elseif x.a > 0 && x.b > 0 && y.a < 0 && y.b < 0\n",
    "            x.a * y.b\n",
    "        else\n",
    "            x.b * y.b\n",
    "        end\n",
    "    end\n",
    "    Interval(a, b)\n",
    "end"
   ]
  },
  {
   "cell_type": "code",
   "execution_count": null,
   "metadata": {},
   "outputs": [],
   "source": []
  }
 ],
 "metadata": {
  "kernelspec": {
   "display_name": "Julia 1.7.1",
   "language": "julia",
   "name": "julia-1.7"
  },
  "language_info": {
   "file_extension": ".jl",
   "mimetype": "application/julia",
   "name": "julia",
   "version": "1.7.1"
  },
  "orig_nbformat": 4
 },
 "nbformat": 4,
 "nbformat_minor": 2
}
