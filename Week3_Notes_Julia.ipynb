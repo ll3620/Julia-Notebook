{
 "cells": [
  {
   "cell_type": "markdown",
   "metadata": {},
   "source": [
    "### MATH50003 Week 3 Notes"
   ]
  },
  {
   "cell_type": "code",
   "execution_count": 5,
   "metadata": {},
   "outputs": [],
   "source": [
    "using LinearAlgebra, Plots, BenchmarkTools, ColorBitstring, Test\n",
    "import Base: getindex, setindex!, size, *, \\"
   ]
  },
  {
   "cell_type": "code",
   "execution_count": 6,
   "metadata": {},
   "outputs": [
    {
     "data": {
      "text/plain": [
       "2×3 adjoint(::Matrix{Int64}) with eltype Int64:\n",
       " 1  3  5\n",
       " 2  4  6"
      ]
     },
     "execution_count": 6,
     "metadata": {},
     "output_type": "execute_result"
    }
   ],
   "source": [
    "# Vector\n",
    "A = [1 2; 3 4; 5 6]\n",
    "vec(A)\n",
    "A' # Transpose"
   ]
  },
  {
   "cell_type": "code",
   "execution_count": 7,
   "metadata": {},
   "outputs": [
    {
     "name": "stdout",
     "output_type": "stream",
     "text": [
      "  2.558 ms (1 allocation: 7.94 KiB)\n",
      "  798.635 μs (1 allocation: 7.94 KiB)\n",
      "  97.382 μs (1 allocation: 7.94 KiB)\n"
     ]
    },
    {
     "data": {
      "text/plain": [
       "1000-element Vector{Float64}:\n",
       "  27.369507139809077\n",
       "  36.35603806855054\n",
       "   7.756548658282468\n",
       " -12.925541515616569\n",
       "  13.480294065804506\n",
       " -35.43636406678427\n",
       "  21.764616992867396\n",
       "   7.859309200293712\n",
       " -34.52377233501758\n",
       "  22.04509016660268\n",
       "  -8.40052831570872\n",
       "  49.35232373858988\n",
       "  65.83654441600814\n",
       "   ⋮\n",
       "  59.88674972890512\n",
       "  79.43032092909385\n",
       "  65.23893569113032\n",
       " -40.21488501113795\n",
       "   7.355771026314127\n",
       "  10.877594009266256\n",
       "   3.0548887487119476\n",
       "  19.7909282421017\n",
       " -86.48245349420947\n",
       "  63.05208534982382\n",
       " -23.695475090917398\n",
       "  30.761209816890826"
      ]
     },
     "execution_count": 7,
     "metadata": {},
     "output_type": "execute_result"
    }
   ],
   "source": [
    "# Matrix multiplicationn in terms of algebraic operations\n",
    "# A is a m by n matrix, and x is n vector (n by 1)\n",
    "\n",
    "# go row-by-row\n",
    "function mul_rows(A, x)\n",
    "    m, n = size(A)\n",
    "    c = zeros(eltype(x), m) #eltype: type of the elements of a vector/matrix; zeros() creates a vector contain 0 only\n",
    "    for k = 1:m, j = 1:n\n",
    "        c[k] += A[k, j] * x[j]\n",
    "    end\n",
    "    c\n",
    "end\n",
    "\n",
    "# go col-by-col, significantly faster than mul_rows due to accessing memory of A in order\n",
    "function mul(A, x)\n",
    "    m, n = size(A)\n",
    "    c = zeros(eltype(x), m)\n",
    "    for j = 1:n, k = 1:m\n",
    "        c[k] += A[k, j] * x[j]\n",
    "    end\n",
    "    c\n",
    "end\n",
    "\n",
    "# Test\n",
    "n = 1000\n",
    "A = randn(n, n)\n",
    "x = randn(n)\n",
    "\n",
    "@btime mul_rows(A,x)\n",
    "@btime mul(A,x)\n",
    "@btime A*x # Built-in high performance function"
   ]
  },
  {
   "cell_type": "code",
   "execution_count": 8,
   "metadata": {},
   "outputs": [
    {
     "name": "stdout",
     "output_type": "stream",
     "text": [
      "Bits obtained by A*x\n",
      "\u001b[31m1\u001b[0m\u001b[32m10000000000\u001b[0m\u001b[34m1100110000111000000100001010111011111100001000101110\u001b[0m\n",
      "\u001b[31m0\u001b[0m\u001b[32m10000000010\u001b[0m\u001b[34m0011010001101010111000000010010101100001010011110111\u001b[0m\n",
      "\u001b[31m0\u001b[0m\u001b[32m10000000000\u001b[0m\u001b[34m0100101000110011001100111101111011010100111100111000\u001b[0m\n",
      "\u001b[31m1\u001b[0m\u001b[32m01111111111\u001b[0m\u001b[34m0000011101111111101101111001010101110100011010000111\u001b[0m\n",
      "\u001b[31m0\u001b[0m\u001b[32m10000000000\u001b[0m\u001b[34m1000001111100011100101100000111110000010010010101100\u001b[0m\n",
      "\u001b[31m1\u001b[0m\u001b[32m10000000000\u001b[0m\u001b[34m1011111011110110011101010000001001110111100100000011\u001b[0m\n",
      "\u001b[31m0\u001b[0m\u001b[32m01111111110\u001b[0m\u001b[34m1010001110110101111010101101100010000001110001100100\u001b[0m\n",
      "\u001b[31m0\u001b[0m\u001b[32m10000000000\u001b[0m\u001b[34m0111111111001110101000101010001001010110110111101011\u001b[0m\n",
      "\u001b[31m0\u001b[0m\u001b[32m10000000001\u001b[0m\u001b[34m1111000001000100111010011011010110111011111011010001\u001b[0m\n",
      "\u001b[31m0\u001b[0m\u001b[32m10000000001\u001b[0m\u001b[34m0101011000111011000100010001101011111000011111010001\u001b[0m\n",
      "Bits obtained by mul(A,x)\n",
      "\u001b[31m1\u001b[0m\u001b[32m10000000000\u001b[0m\u001b[34m1100110000111000000100001010111011111100001000101111\u001b[0m\n",
      "\u001b[31m0\u001b[0m\u001b[32m10000000010\u001b[0m\u001b[34m0011010001101010111000000010010101100001010011111000\u001b[0m\n",
      "\u001b[31m0\u001b[0m\u001b[32m10000000000\u001b[0m\u001b[34m0100101000110011001100111101111011010100111100111001\u001b[0m\n",
      "\u001b[31m1\u001b[0m\u001b[32m01111111111\u001b[0m\u001b[34m0000011101111111101101111001010101110100011010000111\u001b[0m\n",
      "\u001b[31m0\u001b[0m\u001b[32m10000000000\u001b[0m\u001b[34m1000001111100011100101100000111110000010010010101101\u001b[0m\n",
      "\u001b[31m1\u001b[0m\u001b[32m10000000000\u001b[0m\u001b[34m1011111011110110011101010000001001110111100100000011\u001b[0m\n",
      "\u001b[31m0\u001b[0m\u001b[32m01111111110\u001b[0m\u001b[34m1010001110110101111010101101100010000001110001100001\u001b[0m\n",
      "\u001b[31m0\u001b[0m\u001b[32m10000000000\u001b[0m\u001b[34m0111111111001110101000101010001001010110110111101100\u001b[0m\n",
      "\u001b[31m0\u001b[0m\u001b[32m10000000001\u001b[0m\u001b[34m1111000001000100111010011011010110111011111011010001\u001b[0m\n",
      "\u001b[31m0\u001b[0m\u001b[32m10000000001\u001b[0m\u001b[34m0101011000111011000100010001101011111000011111010001\u001b[0m\n",
      "Difference in bits\n",
      "\u001b[31m0\u001b[0m\u001b[32m01111001100\u001b[0m\u001b[34m0000000000000000000000000000000000000000000000000000\u001b[0m\n",
      "\u001b[31m1\u001b[0m\u001b[32m01111001110\u001b[0m\u001b[34m0000000000000000000000000000000000000000000000000000\u001b[0m\n",
      "\u001b[31m1\u001b[0m\u001b[32m01111001100\u001b[0m\u001b[34m0000000000000000000000000000000000000000000000000000\u001b[0m\n",
      "\u001b[31m0\u001b[0m\u001b[32m00000000000\u001b[0m\u001b[34m0000000000000000000000000000000000000000000000000000\u001b[0m\n",
      "\u001b[31m1\u001b[0m\u001b[32m01111001100\u001b[0m\u001b[34m0000000000000000000000000000000000000000000000000000\u001b[0m\n",
      "\u001b[31m0\u001b[0m\u001b[32m00000000000\u001b[0m\u001b[34m0000000000000000000000000000000000000000000000000000\u001b[0m\n",
      "\u001b[31m0\u001b[0m\u001b[32m01111001011\u001b[0m\u001b[34m1000000000000000000000000000000000000000000000000000\u001b[0m\n",
      "\u001b[31m1\u001b[0m\u001b[32m01111001100\u001b[0m\u001b[34m0000000000000000000000000000000000000000000000000000\u001b[0m\n",
      "\u001b[31m0\u001b[0m\u001b[32m00000000000\u001b[0m\u001b[34m0000000000000000000000000000000000000000000000000000\u001b[0m\n",
      "\u001b[31m0\u001b[0m\u001b[32m00000000000\u001b[0m\u001b[34m0000000000000000000000000000000000000000000000000000\u001b[0m\n"
     ]
    },
    {
     "data": {
      "text/plain": [
       "10-element Vector{Nothing}:\n",
       " nothing\n",
       " nothing\n",
       " nothing\n",
       " nothing\n",
       " nothing\n",
       " nothing\n",
       " nothing\n",
       " nothing\n",
       " nothing\n",
       " nothing"
      ]
     },
     "execution_count": 8,
     "metadata": {},
     "output_type": "execute_result"
    }
   ],
   "source": [
    "# The following code finds examples showing A*x is not implemented as mul(A,x), since floating bits don't match for the two methods.\n",
    "function findmuldifference(n, l) # n: size, l: number of attempts\n",
    "    for i = 1:l\n",
    "        A = randn(n, n)\n",
    "        x = randn(n)\n",
    "        if A*x != mul(A,x)\n",
    "            return (A,x)\n",
    "        end\n",
    "    end\n",
    "end\n",
    "\n",
    "n = 10\n",
    "l = 100\n",
    "A, x = findmuldifference(n, l)\n",
    "println(\"Bits obtained by A*x\")\n",
    "printlnbits.(A*x)\n",
    "println(\"Bits obtained by mul(A,x)\")\n",
    "printlnbits.(mul(A,x))\n",
    "println(\"Difference in bits\")\n",
    "printlnbits.(A*x - mul(A,x))"
   ]
  },
  {
   "cell_type": "code",
   "execution_count": 9,
   "metadata": {},
   "outputs": [
    {
     "data": {
      "text/plain": [
       "true"
      ]
     },
     "execution_count": 9,
     "metadata": {},
     "output_type": "execute_result"
    }
   ],
   "source": [
    "# Solve linear system\n",
    "# Ax = b is solve by A \\ b\n",
    "\n",
    "A = [1 2 3; 1 2 4; 3 7 8]\n",
    "b = [10; 11; 12]\n",
    "x = A \\ b\n",
    "\n",
    "A*x ≈ b"
   ]
  },
  {
   "cell_type": "code",
   "execution_count": 10,
   "metadata": {},
   "outputs": [
    {
     "data": {
      "text/plain": [
       "3×3 LowerTriangular{Int64, Matrix{Int64}}:\n",
       " 1  ⋅  ⋅\n",
       " 4  5  ⋅\n",
       " 7  8  9"
      ]
     },
     "execution_count": 10,
     "metadata": {},
     "output_type": "execute_result"
    }
   ],
   "source": [
    "# Triangular matrices\n",
    "A = [1 2 3; 4 5 6; 7 8 9]\n",
    "\n",
    "U, L = UpperTriangular(A), LowerTriangular(A)\n",
    "L # L stores all the data, but only show the lower triangular part, access all data by L.data."
   ]
  },
  {
   "cell_type": "code",
   "execution_count": 11,
   "metadata": {},
   "outputs": [
    {
     "data": {
      "text/plain": [
       "ldiv (generic function with 2 methods)"
      ]
     },
     "execution_count": 11,
     "metadata": {},
     "output_type": "execute_result"
    }
   ],
   "source": [
    "# Implementation of forward / backward substitution with triangular system\n",
    "\n",
    "function ldiv(U::UpperTriangular, b) # backward substitution for UpperTriangular multiplicationn, starting from last row.\n",
    "    n = size(U, 1)\n",
    "\n",
    "    if length(b) != n\n",
    "        error(\"The system is not compatible.\")\n",
    "    end\n",
    "\n",
    "    x = zeros(n)\n",
    "    for k = n:-1:1\n",
    "        r = b[k]\n",
    "        for j = k+1:n\n",
    "            r -= U[k, j] * x[j]\n",
    "        end\n",
    "        x[k] = r/U[k,k]\n",
    "    end\n",
    "    x\n",
    "end\n",
    "\n",
    "function ldiv(U::LowerTriangular, b) # forward substitution for LowerTriangular multiplicationn, starting from 1st row.\n",
    "    n = size(U,1)\n",
    "\n",
    "    if length(b) != n\n",
    "        error(\"The system is not compatible.\")\n",
    "    end\n",
    "\n",
    "    x = zeros(n)\n",
    "    for k = 1:n\n",
    "        r = b[k]\n",
    "        for j = 1:k-1\n",
    "            r -= U[k, j] * x[j]\n",
    "        end\n",
    "        x[k] = r /U[k,k]\n",
    "    end\n",
    "    x\n",
    "end"
   ]
  },
  {
   "cell_type": "markdown",
   "metadata": {},
   "source": [
    "### Banded matrices\n",
    "\n",
    "*Definition:* Zero off a prescribed nunmber of diagonals.\n",
    "\n",
    "*Bandwidths:* The number of non-zero diagonals.\n",
    "\n",
    "More specifically, a matrix has strictly lower-bandwidth $l$ if it has lower-bandwidth $l$, and there exists a $j$ such that $A[j+l,j] \\neq 0.$. A matrix has strictly upper-bandwidth $u$ if it has upper-bandwidth $u$ and there exists a $k$ such that $A[k, k+u] \\neq 0.$\n",
    "\n",
    "Intuitively, all the nonzero entries of the matrix are within K steps of the diagonal.\n",
    "\n"
   ]
  },
  {
   "cell_type": "code",
   "execution_count": 12,
   "metadata": {},
   "outputs": [
    {
     "data": {
      "text/plain": [
       "3×3 Diagonal{Int64, Vector{Int64}}:\n",
       " 1  ⋅  ⋅\n",
       " ⋅  2  ⋅\n",
       " ⋅  ⋅  3"
      ]
     },
     "execution_count": 12,
     "metadata": {},
     "output_type": "execute_result"
    }
   ],
   "source": [
    "# Diagonal matrices are square matrices with bandwidths l=u=0\n",
    "x = [1,2,3]\n",
    "D = Diagonal(x) # multiplications involving diagonal matrices are in O(n) operations.\n"
   ]
  },
  {
   "cell_type": "code",
   "execution_count": 13,
   "metadata": {},
   "outputs": [
    {
     "data": {
      "text/plain": [
       "3×3 Bidiagonal{Int64, Vector{Int64}}:\n",
       " 1  4  ⋅\n",
       " ⋅  2  5\n",
       " ⋅  ⋅  3"
      ]
     },
     "execution_count": 13,
     "metadata": {},
     "output_type": "execute_result"
    }
   ],
   "source": [
    "# Lower-bidiagonal matrix: square matrix has bandwidth (l,u) = (1,0)\n",
    "# Upper-bidiagonal matrix: square matrix has bandwidth (l,u) = (0,1)\n",
    "\n",
    "Bidiagonal([1,2,3], [4,5], :L)\n",
    "Bidiagonal([1,2,3], [4,5], :U)"
   ]
  },
  {
   "cell_type": "code",
   "execution_count": 14,
   "metadata": {},
   "outputs": [
    {
     "data": {
      "text/plain": [
       "3×3 Tridiagonal{Int64, Vector{Int64}}:\n",
       " 3  6  ⋅\n",
       " 1  4  7\n",
       " ⋅  2  5"
      ]
     },
     "execution_count": 14,
     "metadata": {},
     "output_type": "execute_result"
    }
   ],
   "source": [
    "# Tridiagonal matrix: suqare matrix with bandwidths l=u=1\n",
    "Tridiagonal([1,2], [3,4,5], [6,7])"
   ]
  },
  {
   "cell_type": "markdown",
   "metadata": {},
   "source": [
    "### Question\n",
    "\n",
    "Impelment an upper triangular matrix with bandwidth (l,u) = (0,2), and its * and \\ operations which only take O(n) operations."
   ]
  },
  {
   "cell_type": "code",
   "execution_count": 15,
   "metadata": {},
   "outputs": [
    {
     "data": {
      "text/plain": [
       "4×4 UpperTridiagonal{Int64}:\n",
       " 1  1  1  0\n",
       " 0  2  2  2\n",
       " 0  0  3  3\n",
       " 0  0  0  4"
      ]
     },
     "execution_count": 15,
     "metadata": {},
     "output_type": "execute_result"
    }
   ],
   "source": [
    "struct UpperTridiagonal{T} <: AbstractMatrix{T}\n",
    "    d::Vector{T}   # diagonal entries\n",
    "    du::Vector{T}  # super-diagonal enries\n",
    "    du2::Vector{T} # second-super-diagonal entries\n",
    "end\n",
    "\n",
    "size(U::UpperTridiagonal) = (length(U.d),length(U.d))\n",
    "\n",
    "function getindex(U::UpperTridiagonal, k::Int, j::Int)\n",
    "    d,du,du2 = U.d,U.du,U.du2\n",
    "    # TODO: return U[k,j]\n",
    "    if j == k+2\n",
    "        return U.du2[k]\n",
    "    elseif j == k+1\n",
    "        return U.du[k]\n",
    "    elseif j == k\n",
    "        return U.d[k]\n",
    "    else\n",
    "        return zero(eltype(U))\n",
    "    end\n",
    "end\n",
    "\n",
    "function setindex!(U::UpperTridiagonal, v, k::Int, j::Int)\n",
    "    d,du,du2 = U.d,U.du,U.du2\n",
    "    if j > k+2\n",
    "        error(\"Cannot modify off-band\")\n",
    "    end\n",
    "\n",
    "    # TODO: modify d,du,du2 so that U[k,j] == v\n",
    "    if j == k+2\n",
    "        U.du2[k] = v\n",
    "    elseif j == k+1\n",
    "        U.du[k] = v\n",
    "    elseif j == k\n",
    "        U.d[k] = v\n",
    "    end\n",
    "    U # by convention we return the matrix\n",
    "end\n",
    "\n",
    "A = UpperTridiagonal([1,2,3,4],[1,2,3],[1,2])"
   ]
  },
  {
   "cell_type": "code",
   "execution_count": 16,
   "metadata": {},
   "outputs": [
    {
     "data": {
      "text/plain": [
       "2"
      ]
     },
     "execution_count": 16,
     "metadata": {},
     "output_type": "execute_result"
    }
   ],
   "source": [
    "A[2,2]"
   ]
  },
  {
   "cell_type": "code",
   "execution_count": 17,
   "metadata": {},
   "outputs": [
    {
     "data": {
      "text/plain": [
       "\\ (generic function with 150 methods)"
      ]
     },
     "execution_count": 17,
     "metadata": {},
     "output_type": "execute_result"
    }
   ],
   "source": [
    "function *(U::UpperTridiagonal, x::AbstractVector)\n",
    "    T = promote_type(eltype(U), eltype(x)) # make a type that contains both the element type of U and x\n",
    "    b = zeros(T, size(U,1)) # returned vector\n",
    "    # TODO: populate b so that U*x == b (up to rounding)\n",
    "    n = size(U)[1]\n",
    "    for k = 1:n-2\n",
    "        b[k] = dot(U[k:k+2], x[k:k+2])\n",
    "    end\n",
    "    b[n-1] = dot(U[n-1,n-1:n],x[n-1:n])\n",
    "    b[n] = U[n,n]*x[n]\n",
    "    return b\n",
    "end\n",
    "\n",
    "function \\(U::UpperTridiagonal, b::AbstractVector)\n",
    "    T = promote_type(eltype(U), eltype(b)) # make a type that contains both the element type of U and b\n",
    "    x = zeros(T, size(U,2)) # returned vector\n",
    "    # TODO: populate x so that U*x == b (up to rounding)\n",
    "    n = size(U)[1]\n",
    "    \n",
    "    if length(b) != n\n",
    "        error(\"The system is not compatible\")\n",
    "    end\n",
    "    \n",
    "    for k = n:-1:1  # start with k=n, then k=n-1, ...\n",
    "        r = b[k]  # dummy variable\n",
    "        for j = k+1:min(k+3,n)\n",
    "            r -= U[k,j]*x[j]\n",
    "        end\n",
    "        x[k] = r/U[k,k]\n",
    "    end\n",
    "    x\n",
    "end"
   ]
  },
  {
   "cell_type": "markdown",
   "metadata": {},
   "source": [
    "### Permutation Matrices\n",
    "\n",
    "Permutation matrices are matrices that represent the action of permuting the entries of a vector,\n",
    "that is, matrix representations of the symmetric group $S_n$, acting on $ℝ^n$.\n",
    "\n",
    "We can encode a permutation in vector $\\mathbf σ = [σ_1,\\ldots,σ_n]^⊤$. \n",
    "This induces an action on a vector (using indexing notation)\n",
    "$$\n",
    "𝐯[\\mathbf σ] = \\begin{bmatrix}v_{σ_1}\\\\ \\vdots \\\\ v_{σ_n} \\end{bmatrix}\n",
    "$$\n",
    "\n",
    "\n",
    "**Example (permutation of a vector)** \n",
    "Consider the permutation $σ$ given by\n",
    "$$\n",
    "\\begin{pmatrix}\n",
    " 1 & 2 & 3 & 4 & 5 \\cr\n",
    " 1 & 4 & 2 & 5 & 3\n",
    " \\end{pmatrix}\n",
    "$$\n",
    "We can apply it to a vector:"
   ]
  },
  {
   "cell_type": "code",
   "execution_count": 18,
   "metadata": {},
   "outputs": [
    {
     "data": {
      "text/plain": [
       "5-element Vector{Int64}:\n",
       " 1\n",
       " 4\n",
       " 2\n",
       " 5\n",
       " 3"
      ]
     },
     "execution_count": 18,
     "metadata": {},
     "output_type": "execute_result"
    }
   ],
   "source": [
    "σ = [1, 4, 2, 5, 3] # Permutation vec\n",
    "v = [1, 2, 3, 4, 5] # Original vec\n",
    "v[σ] "
   ]
  },
  {
   "cell_type": "markdown",
   "metadata": {},
   "source": [
    "Its inverse permutation $σ^{-1}$ has Cauchy notation coming from swapping the rows of\n",
    "the Cauchy notation of $σ$ and sorting:\n",
    "$$\n",
    "\\begin{pmatrix}\n",
    " 1 & 4 & 2 & 5 & 3 \\cr\n",
    " 1 & 2 & 3 & 4 & 5\n",
    " \\end{pmatrix} \\rightarrow \\begin{pmatrix}\n",
    " 1 & 2 & 3 & 4 & 5 \\cr\n",
    " 1 & 3 & 5 & 2 & 4\n",
    " \\end{pmatrix} \n",
    "$$\n",
    "Julia has the function `invperm` for computing the vector that encodes\n",
    "the inverse permutation:\n",
    "And indeed:"
   ]
  },
  {
   "cell_type": "code",
   "execution_count": 19,
   "metadata": {},
   "outputs": [
    {
     "data": {
      "text/plain": [
       "5-element Vector{Int64}:\n",
       " 1\n",
       " 3\n",
       " 5\n",
       " 2\n",
       " 4"
      ]
     },
     "execution_count": 19,
     "metadata": {},
     "output_type": "execute_result"
    }
   ],
   "source": [
    "σ⁻¹ = invperm(σ) # Compute inverse permutation"
   ]
  },
  {
   "cell_type": "code",
   "execution_count": 20,
   "metadata": {},
   "outputs": [
    {
     "data": {
      "text/plain": [
       "5-element Vector{Int64}:\n",
       " 1\n",
       " 2\n",
       " 3\n",
       " 4\n",
       " 5"
      ]
     },
     "execution_count": 20,
     "metadata": {},
     "output_type": "execute_result"
    }
   ],
   "source": [
    "v[σ][σ⁻¹] # Restore back to the original vector"
   ]
  },
  {
   "cell_type": "code",
   "execution_count": 21,
   "metadata": {},
   "outputs": [
    {
     "data": {
      "text/plain": [
       "5×5 SparseArrays.SparseMatrixCSC{Bool, Int64} with 5 stored entries:\n",
       " 1  ⋅  ⋅  ⋅  ⋅\n",
       " ⋅  ⋅  ⋅  1  ⋅\n",
       " ⋅  1  ⋅  ⋅  ⋅\n",
       " ⋅  ⋅  ⋅  ⋅  1\n",
       " ⋅  ⋅  1  ⋅  ⋅"
      ]
     },
     "execution_count": 21,
     "metadata": {},
     "output_type": "execute_result"
    }
   ],
   "source": [
    "# Permutation matrix\n",
    "P = I(5)[σ,:]"
   ]
  },
  {
   "cell_type": "code",
   "execution_count": 22,
   "metadata": {},
   "outputs": [
    {
     "data": {
      "text/plain": [
       "true"
      ]
     },
     "execution_count": 22,
     "metadata": {},
     "output_type": "execute_result"
    }
   ],
   "source": [
    "P * v == v[σ]"
   ]
  },
  {
   "cell_type": "markdown",
   "metadata": {},
   "source": [
    "### Question\n",
    "Complete the implementation of a type representing\n",
    "permutation matrices that supports `P[k,j]` and such that `*` takes $O(n)$ operations.\n",
    "\n"
   ]
  },
  {
   "cell_type": "code",
   "execution_count": 23,
   "metadata": {},
   "outputs": [
    {
     "data": {
      "text/plain": [
       "5×5 PermutationMatrix:\n",
       " 1  0  0  0  0\n",
       " 0  0  0  1  0\n",
       " 0  1  0  0  0\n",
       " 0  0  0  0  1\n",
       " 0  0  1  0  0"
      ]
     },
     "execution_count": 23,
     "metadata": {},
     "output_type": "execute_result"
    }
   ],
   "source": [
    "struct PermutationMatrix <: AbstractMatrix{Int}\n",
    "    p::Vector{Int} # represents the permutation whose action is v[p]\n",
    "    function PermutationMatrix(p::Vector)\n",
    "        sort(p) == 1:length(p) || error(\"input is not a valid permutation\")\n",
    "        new(p)\n",
    "    end\n",
    "end\n",
    "\n",
    "size(P::PermutationMatrix) = (length(P.p),length(P.p))\n",
    "\n",
    "function getindex(P::PermutationMatrix, k::Int, j::Int)\n",
    "    # TODO: Return P[k,j]\n",
    "    if P.p[k] == j\n",
    "        1\n",
    "    else\n",
    "        0\n",
    "    end\n",
    "end\n",
    "\n",
    "function *(P::PermutationMatrix, x::AbstractVector)\n",
    "    # TODO: permute the entries of x\n",
    "    x[P.p]\n",
    "end\n",
    "\n",
    "\n",
    "p = [1, 4, 2, 5, 3]\n",
    "P = PermutationMatrix(p)\n",
    "P"
   ]
  },
  {
   "cell_type": "markdown",
   "metadata": {},
   "source": [
    "### Reflection matrix\n",
    "\n",
    "We can rotate an arbitrary vector to the unit axis without using trigonometric functions.\n",
    "\n",
    "The matrix\n",
    "$$Q = {1 \\over \\sqrt{a^2 + b^2}}\\begin{bmatrix}\n",
    " a & b \\cr -b & a\n",
    "\\end{bmatrix}\n",
    "$$\n",
    "is a rotation matrix satisfying\n",
    "$$\n",
    "Q \\begin{bmatrix} a \\\\ b \\end{bmatrix} = \\sqrt{a^2 + b^2} \\begin{bmatrix} 1 \\\\ 0 \\end{bmatrix}\n",
    "$$\n",
    "\n",
    "**Reflection matrix**\n",
    "\n",
    "Given a vector $v$ satisfying $||v|| = 1$, the reflection matrix is the orthogonal matrix  $$Q_v \\triangleq I - 2vv^T$$. These are reflections in the direction of $v$.\n",
    "\n",
    "We can apply $Q_v$ to a vector using the expression: $$Q_vx = x - 2v(v^Tx)$$\n",
    "\n",
    "**Question** Now complete the implementation of a type representing reflections that supports `Q[k,j]` and such that `*` takes $O(n)$ operations."
   ]
  },
  {
   "cell_type": "code",
   "execution_count": 4,
   "metadata": {},
   "outputs": [
    {
     "data": {
      "text/plain": [
       "\u001b[32m\u001b[1mTest Passed\u001b[22m\u001b[39m\n",
       "  Expression: Q' * Q ≈ I\n",
       "   Evaluated: [1.0 4.336808689942018e-19 … -3.469446951953614e-18 0.0; 4.336808689942018e-19 1.0 … 7.589415207398531e-19 -8.673617379884035e-19; … ; -3.469446951953614e-18 7.589415207398531e-19 … 1.0 0.0; 0.0 -8.673617379884035e-19 … 0.0 1.0] ≈ UniformScaling{Bool}(true)"
      ]
     },
     "execution_count": 4,
     "metadata": {},
     "output_type": "execute_result"
    }
   ],
   "source": [
    "# Represents I - 2v*v'\n",
    "struct Reflection{T} <: AbstractMatrix{T}\n",
    "    v::Vector{T}\n",
    "end\n",
    "\n",
    "Reflection(x::Vector{T}) where T = Reflection{T}(x/norm(x))\n",
    "\n",
    "size(Q::Reflection) = (length(Q.v),length(Q.v))\n",
    "\n",
    "function getindex(Q::Reflection, k::Int, j::Int)\n",
    "    # TODO: Return Q[k,j]\n",
    "    (k == j) - 2Q.v[k]*Q.v[j] # note true is treated like 1 and false like 0\n",
    "end\n",
    "\n",
    "function *(P::Reflection, x::AbstractVector)\n",
    "    # TODO: permute the entries of x\n",
    "    x - 2*Q.v * dot(Q.v,x) # (Q.v'*x) also works instead of dot\n",
    "end\n",
    "\n",
    "# If your code is correct, these \"unit tests\" will succeed\n",
    "x = randn(5)\n",
    "Q = Reflection(x)\n",
    "v = x/norm(x)\n",
    "@test Q == I-2v*v'\n",
    "@test Q*v ≈ -v\n",
    "@test Q'Q ≈ I"
   ]
  },
  {
   "cell_type": "markdown",
   "metadata": {},
   "source": [
    "### Householder reflection\n",
    "For a given vector $x$, define the Householder reflection $$Q^{\\pm, H}_x := Q_w = I-2ww^T$$\n",
    "for $y = \\mp ||x||e_1 + x$ and $w = \\frac{y}{\\\\y\\\\}$\n",
    "\n",
    "The default choice in sign is $Q^H_x:=Q_x^{-sign(x1),H}$, which depends on the sign of the first entry of $x$ to gain stability.\n",
    "\n",
    "And $$Q_x^{\\pm,H}x = \\pm ||x||e_1$$\n",
    "\n",
    "Implementation is as follow:"
   ]
  },
  {
   "cell_type": "code",
   "execution_count": 24,
   "metadata": {},
   "outputs": [
    {
     "data": {
      "text/plain": [
       "\u001b[32m\u001b[1mTest Passed\u001b[22m\u001b[39m\n",
       "  Expression: Q * x ≈ [-(norm(x)); zeros(eltype(x), length(x) - 1)]\n",
       "   Evaluated: [-2.062348692933986, 1.1102230246251565e-16, -8.326672684688674e-17, 1.6653345369377348e-16, 6.661338147750939e-16] ≈ [-2.0623486929339863, 0.0, 0.0, 0.0, 0.0]"
      ]
     },
     "execution_count": 24,
     "metadata": {},
     "output_type": "execute_result"
    }
   ],
   "source": [
    "function householderreflection(s::Bool, x::AbstractVector)\n",
    "    y = copy(x) # don't modify `x`\n",
    "    if s\n",
    "        y[1] -= norm(x)\n",
    "    else\n",
    "        y[1] += norm(x)\n",
    "    end\n",
    "    Reflection(y)\n",
    "end\n",
    "\n",
    "x = randn(5)\n",
    "Q = householderreflection(true, x)\n",
    "@test Q isa Reflection\n",
    "@test Q*x ≈ [norm(x);zeros(eltype(x),length(x)-1)]\n",
    "\n",
    "Q = householderreflection(false, x)\n",
    "@test Q isa Reflection\n",
    "@test Q*x ≈ [-norm(x);zeros(eltype(x),length(x)-1)]"
   ]
  },
  {
   "cell_type": "code",
   "execution_count": null,
   "metadata": {},
   "outputs": [],
   "source": []
  }
 ],
 "metadata": {
  "kernelspec": {
   "display_name": "Julia 1.7.1",
   "language": "julia",
   "name": "julia-1.7"
  },
  "language_info": {
   "file_extension": ".jl",
   "mimetype": "application/julia",
   "name": "julia",
   "version": "1.7.1"
  },
  "orig_nbformat": 4
 },
 "nbformat": 4,
 "nbformat_minor": 2
}
